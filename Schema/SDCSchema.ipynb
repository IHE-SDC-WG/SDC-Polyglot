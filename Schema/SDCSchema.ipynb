{
 "cells": [
  {
   "attachments": {},
   "cell_type": "markdown",
   "metadata": {},
   "source": [
    "# SDC Polyglot Workbook \n",
    "\n",
    "This work book is an example of what can be done with SDC in Polyglot notebook. "
   ]
  },
  {
   "cell_type": "code",
   "execution_count": null,
   "metadata": {
    "vscode": {
     "languageId": "xml"
    }
   },
   "outputs": [],
   "source": [
    " <Section name=\"S_4257\" order=\"19\" ID=\"4257.100004300\" minCard=\"0\">\n",
    " </Section>"
   ]
  },
  {
   "attachments": {},
   "cell_type": "markdown",
   "metadata": {},
   "source": [
    "## Sections\n",
    " \n",
    "The code snippet above shows a section with a name, order, ID and minCard attribute"
   ]
  },
  {
   "cell_type": "code",
   "execution_count": null,
   "metadata": {
    "vscode": {
     "languageId": "xml"
    }
   },
   "outputs": [],
   "source": []
  },
  {
   "cell_type": "markdown",
   "metadata": {},
   "source": [
    "# Questions\n",
    "\n",
    "Each QAS in the FDF XML is an XFC that can be represented in the DEF by one or more controls (widgets) by the FF software. The controls capture user response data in the DEF.  Each QAS XFC has an ID   and other metadata. DEF controls are assigned the matching XFC ID to enable data from the DEF control to be captured into the XFC XML that shares its @ID. The behavior of the control is determined by the corresponding XFC metadata. There are 3 QAS types: Question-Response, Single-Select Question, and Multi-Select Question.\n",
    "\n",
    "The primary visible text for all controls is found in the title attribute inside the `<Question>` element.  "
   ]
  },
  {
   "cell_type": "markdown",
   "metadata": {},
   "source": [
    "## Question-Response\n",
    "\n",
    "The QR control represents a Question control with an adjacent area for capturing a response from the user. The QR XFC does not have an answer list (a List of ListItems). \n",
    "\n",
    "A QR response may be validated by rules in the Response element, which determine if the inputs are in the proper format (e.g., as a text string or decimal, or rarely, following a pattern mask or a binary type).\n",
    "\n",
    "**Observe the following points about this sample:**\n",
    "\n",
    "* *Question* is the only XFC that appears in this XML example. The other nested elements support the *Question XFC* with additional metadata.\n",
    "\n",
    "* All XFC elements (*Question* in this case) must have an **ID** that is unique within the FDF. This uniqueness is enforced by the XML Schema. Uniqueness of IDs must be confirmed by SDC-compliant software. Since XFCs can be repeated in DEF implementation, uniqueness enforcement is an important task in SDC software implementations.\n",
    "\n",
    "* The text to display in the DEF is in the *title content*.\n",
    "\n",
    "* **Responses** are captured in a `ResponseField / Response / (datatype)` structure, where `(datatype)` is an SDC element corresponding to one of the SDC datatypes.\n",
    "\n",
    "  * Responses must contain an SDC datatype element (*string* in this case).\n",
    "\n",
    "  * User-entered responses are captured in the `val` attribute of the `(datatype)` element, like this:\n",
    "    ```xml\n",
    "    <string maxLength=\"4000\" minLength=\"0\" val=\"This is my comment\" />\n",
    "    ```\n",
    "\n",
    "    The example below offers a complete example of a `<Question>` element. "
   ]
  },
  {
   "cell_type": "code",
   "execution_count": null,
   "metadata": {
    "vscode": {
     "languageId": "xml"
    }
   },
   "outputs": [],
   "source": [
    "<Question ID=\"40273.100004300\" title=\"Comment(s)\">\n",
    "    <ResponseField>\n",
    "        <Response>\n",
    "            <string maxLength=\"4000\" minLength=\"0\"/>\n",
    "        </Response>\n",
    "    </ResponseField>\n",
    "</Question>"
   ]
  },
  {
   "cell_type": "markdown",
   "metadata": {},
   "source": [
    "### Repsponse Field\n",
    "\n",
    "As mentioned in the Question-Response section, the response field is designed to take user input of some kind with the as specified datatypes. SDC supports W3C datatypes and also supports XML and HTML datatypes for user responses. Example datatypes can include strings, integers, decimals, and dates.\n",
    "\n",
    "* All `datatype` elements names use lower camel case, unlike all other elements in the SDC Schema. This is done to conform with the W3C representation of the datatypes in XML Schema documents. One notable exception because of it's importance is `@ID`\n",
    "\n",
    "* All datatypes are defined and modeled after the W3C datatypes and include all of the W3C datatype metadata attributes.\n",
    "\n",
    "* All metadata attributes have a type appropriate for the element and the metadata. For example, `maxLength` has an XML Schema datatype of `xs:long`.\n",
    "\n",
    "* The `val` attribute validates the datatype of its element tag. Entering an invalid datatype in this attribute will generate a validation error when validated with the SDCFormDesign Schema.\n",
    "\n",
    "* `val` cannot be Schema-validated against the element's other datatype metadata (for `string`, in this case, `maxLength`, `minLength`, `mask`, `pattern`), so that further validation of `val` content must use additional methods such as Schematron.\n",
    "\n",
    "Here is another example that shows how numeric QR structures may appear with:\n"
   ]
  },
  {
   "cell_type": "code",
   "execution_count": null,
   "metadata": {
    "vscode": {
     "languageId": "xml"
    }
   },
   "outputs": [],
   "source": [
    "<Question ID=\"QR1\" title=\"Specify Percentage of QR quarks (see Note A)\">\n",
    "    <ResponseField>\n",
    "        <Response>\n",
    "            <integer maxInclusive=\"100\" minInclusive=\"1\"/>\n",
    "        </Response>\n",
    "        <TextAfterResponse val=\"%\"/>\n",
    "        <ResponseUnits val=\"%\" unitSystem=\"UCUM\"/>\n",
    "    </ResponseField>\n",
    "</Question>"
   ]
  },
  {
   "cell_type": "markdown",
   "metadata": {},
   "source": [
    "* The example above uses an `<integer>` datatype to specify and record the user-entered value.\n",
    "* When the user enters a response into the DEF, the `<integer>` element will be populated with `val` and look like this:\n",
    "\n",
    "```xml\n",
    "  <integer maxInclusive=\"100\" minInclusive=\"1\" val=\"My user response\"/>\n",
    "```\n",
    "\n",
    "* The displayed datatype validation metadata are specific for the `integer` datatype (`maxInclusive`, `minInclusive`).\n",
    "* Other attributes are available for numeric response datatypes, including: `quantEnum`, `maxExclusive`, `minExclusive`, `totalDigits`, `mask`, `allowGT`, `allowGTE`, `allowLT`, `allowLTE`, and `allowAPPROX`. For decimals and float, `fractionDigits` is also available.\n",
    "* The `TextAfterResponse` element provides a place to specify static text that should appear after the user’s response in the DEF and the report. The `val` content holds the text for display.\n",
    "* The `ResponseUnits` element provides a place to record the units relevant to the response. The `val` attribute holds the text (\"%\") of the units for the user’s response. This is provided by the FDF designer, not the DEF-user. The `ResponseUnits` is “hard-coded” into the FDF and is not changeable via the DEF. The `unitSystem` attribute defaults to “UCUM” (Unified Code for Units of Measure) and is not usually displayed in the DEF or report."
   ]
  },
  {
   "cell_type": "markdown",
   "metadata": {},
   "source": [
    "## Single Select Questions\n",
    "\n",
    "A QS control displays a Question that subsumes a List of ListItem controls.  The List is set to single-select in the XFC metadata and in the DEF control.  The QS control is often rendered as a Question title area along with option/radio buttons for the LIs, or as a combo-box with dropdown answer choices, from which only one answer may be selected.  In the XFC, the QS ListField element has maxSelections=\"1\" which is the default value for this attribute; if maxSelections does not appear in the ListField (as in the example below), then the Question is treated as a QS.\n"
   ]
  },
  {
   "cell_type": "code",
   "execution_count": null,
   "metadata": {
    "vscode": {
     "languageId": "xml"
    }
   },
   "outputs": [],
   "source": [
    "<Question ID=\"QS1\" title=\"Select your favorite color for QS\">\n",
    "    <ListField>\n",
    "    <!-- ListField maxSelections=\"1\" is not shown since it is the default value-->\n",
    "        <List>\n",
    "            <ListItem ID=\"LI1\" title=\"Baseball\"/>\n",
    "            <ListItem ID=\"LI2\" title=\"Zebra\"/>\n",
    "            <ListItem ID=\"LI3\" title=\"Snort\" selected=\"true\"/>\n",
    "            <ListItem ID=\"LI4\" title=\"Zinger\"/>\n",
    "            <ListItem ID=\"LI5\" title=\"Enter another color\" >\n",
    "        </List>\n",
    "    </ListField>\n",
    "</Question>\n"
   ]
  },
  {
   "cell_type": "markdown",
   "metadata": {},
   "source": [
    "### ListItemResponseField\n",
    "\n",
    "The `<ListItemResponseField>` is used when a list requires an \"Other (Specify):\" style question that requires user input outside of the items displayed in the list. It can contain the same datatypes as the `<ResponseField>` element. Both contain the `<Response>` element which contains the element that defines the datatype for answer (e.g. `<string>`)."
   ]
  },
  {
   "cell_type": "code",
   "execution_count": null,
   "metadata": {
    "vscode": {
     "languageId": "xml"
    }
   },
   "outputs": [],
   "source": [
    "<Question ID=\"QS1\" title=\"Select your favorite color for QS\">\n",
    "    <ListField> \n",
    "        <List>\n",
    "            <ListItem ID=\"LI1\" title=\"Baseball\"/>\n",
    "            <ListItem ID=\"LI2\" title=\"Zebra\"/>\n",
    "            <ListItem ID=\"LI3\" title=\"Snort\" selected=\"true\"/>\n",
    "            <ListItem ID=\"LI4\" title=\"Zinger\"/>\n",
    "            <ListItem ID=\"LI5\" title=\"Enter another color\" >\n",
    "                <Property propName=\"reportText\" val=\"{no text}\"/>\n",
    "                <ListItemResponseField responseRequired=\"true\">\n",
    "                    <Response>\n",
    "                        <string maxLength=\"30\" />\n",
    "                    </Response>\n",
    "                </ListItemResponseField>\n",
    "            </ListItem>\n",
    "        </List>\n",
    "    </ListField>\n",
    "</Question>\n"
   ]
  },
  {
   "cell_type": "markdown",
   "metadata": {},
   "source": [
    "In this XML snippet, the ListItemResponseField element is associated with the ListItem labeled \"Enter another color\". This specific ListItemResponseField serves the purpose of capturing user responses when the user selects this particular option when the listed options cannot be used. "
   ]
  },
  {
   "cell_type": "markdown",
   "metadata": {},
   "source": [
    "## Multi-select Questions\n",
    "\n"
   ]
  },
  {
   "cell_type": "code",
   "execution_count": null,
   "metadata": {
    "vscode": {
     "languageId": "xml"
    }
   },
   "outputs": [],
   "source": [
    "<Question ID=\"QM1\" title=\"This is a QM Question title\" >\n",
    "    <ListField maxSelections=\"0\">\n",
    "        <List>\n",
    "            <ListItem ID=\"LI1\" title=\"ListItem.title.1\" />\n",
    "            <ListItem ID=\"LI2\" title=\"ListItem.title.2\" />\n",
    "            <ListItem ID=\"LI3\" title=\"ListItem.title.3\" />\n",
    "        </List>\n",
    "    </ListField>\n",
    "</Question>"
   ]
  },
  {
   "attachments": {},
   "cell_type": "markdown",
   "metadata": {},
   "source": [
    "## minCard\n",
    "\n",
    "@minCard is the minimum number of repetitions allowed for a section or question. The default value is 1, indicating that the user must answer any question(s) that has this attribute set. If @minCard is set to 0, then the item and all descendent questions are optional to answer.\n"
   ]
  },
  {
   "cell_type": "code",
   "execution_count": null,
   "metadata": {
    "vscode": {
     "languageId": "xml"
    }
   },
   "outputs": [],
   "source": [
    "<Question name=\"Q_2118\" order=\"21\" ID=\"2118.100004300\" minCard=\"0\" readOnly=\"true\">\n",
    "      <Property name=\"p_altTxt_2118_1\" order=\"22\" propName=\"altText\" val=\"Tumor Site\" />\n",
    "      <ListField name=\"lf_2118_2\" order=\"23\">\n",
    "       <List name=\"lst_2118_3\" order=\"24\">\n",
    "        <ListItem name=\"LI_2119\" order=\"25\" ID=\"2119.100004300\" title=\"Adrenal gland\" selected=\"true\">\n",
    "         <Property name=\"p_rptTxt_2119_1\" order=\"26\" propName=\"reportText\" val=\"{no text}\" />\n",
    "        </ListItem>\n",
    "       </List>\n",
    "      </ListField>\n",
    "     </Question>"
   ]
  },
  {
   "attachments": {},
   "cell_type": "markdown",
   "metadata": {},
   "source": [
    "## Read Only Question\n",
    "\n",
    "The question above is a special kind of read only question that is displayed to the user, but they cannot fill it in. It is informational in nature only. "
   ]
  },
  {
   "cell_type": "code",
   "execution_count": null,
   "metadata": {
    "vscode": {
     "languageId": "xml"
    }
   },
   "outputs": [],
   "source": [
    " <ListItem name=\"LI_45594\" order=\"192\" ID=\"45594.100004300\" title=\"Other adjacent organs and structures (specify)\">\n",
    "         <Property name=\"p_rptTxt_45594_1\" order=\"193\" propName=\"reportText\" val=\"{no text}\" />\n",
    "         <ListItemResponseField name=\"lirf_45594_2\" order=\"194\" responseRequired=\"true\">\n",
    "          <Response name=\"rsp_45594_3\" order=\"195\">\n",
    "           <string name=\"str_45594_4\" order=\"196\" />\n",
    "          </Response>\n",
    "         </ListItemResponseField>\n",
    "        </ListItem>"
   ]
  },
  {
   "attachments": {},
   "cell_type": "markdown",
   "metadata": {},
   "source": [
    "## ListItem With Response\n",
    "\n",
    "There are many questions in SDC forms which might have a response section "
   ]
  }
 ],
 "metadata": {
  "kernelspec": {
   "display_name": "Python 3",
   "language": "python",
   "name": "python3"
  },
  "language_info": {
   "codemirror_mode": {
    "name": "ipython",
    "version": 3
   },
   "file_extension": ".py",
   "mimetype": "text/x-python",
   "name": "python",
   "nbconvert_exporter": "python",
   "pygments_lexer": "ipython3",
   "version": "3.9.13"
  },
  "orig_nbformat": 4,
  "vscode": {
   "interpreter": {
    "hash": "aee8b7b246df8f9039afb4144a1f6fd8d2ca17a180786b69acc140d282b71a49"
   }
  }
 },
 "nbformat": 4,
 "nbformat_minor": 2
}
