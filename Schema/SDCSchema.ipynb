{
 "cells": [
  {
   "attachments": {},
   "cell_type": "markdown",
   "metadata": {},
   "source": [
    "# SDC Polyglot Workbook \n",
    "\n",
    "This work book is an example of what can be done with SDC in Polyglot notebook. "
   ]
  },
  {
   "cell_type": "code",
   "execution_count": null,
   "metadata": {
    "vscode": {
     "languageId": "xml"
    }
   },
   "outputs": [],
   "source": [
    " <Section name=\"S_4257\" order=\"19\" ID=\"4257.100004300\" minCard=\"0\">\n",
    " </Section>"
   ]
  },
  {
   "attachments": {},
   "cell_type": "markdown",
   "metadata": {},
   "source": [
    "## Sections\n",
    " \n",
    "The code snippet above shows a section with a name, order, ID and minCard attribute"
   ]
  },
  {
   "cell_type": "code",
   "execution_count": null,
   "metadata": {
    "vscode": {
     "languageId": "xml"
    }
   },
   "outputs": [],
   "source": []
  },
  {
   "cell_type": "markdown",
   "metadata": {},
   "source": [
    "# Questions\n",
    "\n",
    "Each QAS in the FDF XML is an XFC that can be represented in the DEF by one or more controls (widgets) by the FF software. The controls capture user response data in the DEF.  Each QAS XFC has an ID   and other metadata. DEF controls are assigned the matching XFC ID to enable data from the DEF control to be captured into the XFC XML that shares its @ID. The behavior of the control is determined by the corresponding XFC metadata. There are 3 QAS types: Question-Response, Single-Select Question, and Multi-Select Question.\n",
    "\n",
    "The primary visible text for all controls is found in the title attribute inside the `<Question>` element.  "
   ]
  },
  {
   "cell_type": "markdown",
   "metadata": {},
   "source": [
    "## Question-Response\n",
    "**Observe the following points about this sample:**\n",
    "\n",
    "- *Question* is the only XFC that appears in this XML example. The other nested elements support the *Question XFC* with additional metadata.\n",
    "\n",
    "- All XFC elements (*Question* in this case) must have an **ID** that is unique within the FDF. This uniqueness is enforced by the XML Schema. Uniqueness of IDs must be confirmed by SDC-compliant software. Since XFCs can be repeated in DEF implementation, uniqueness enforcement is an important task in SDC software implementations.\n",
    "\n",
    "- The text to display in the DEF is in the *title content*.\n",
    "\n",
    "- **Responses** are captured in a `ResponseField / Response / (datatype)` structure, where `(datatype)` is an SDC element corresponding to one of the SDC datatypes.\n",
    "\n",
    "  - Responses must contain an SDC datatype element (*string* in this case).\n",
    "\n",
    "  - User-entered responses are captured in the `val` attribute of the `(datatype)` element, like this:\n",
    "    ```xml\n",
    "    <string maxLength=\"4000\" minLength=\"0\" val=\"This is my comment\" />\n",
    "    ```\n",
    "\n",
    "    The example below offers a complete example of a `<Question>` element. "
   ]
  },
  {
   "cell_type": "code",
   "execution_count": null,
   "metadata": {
    "vscode": {
     "languageId": "xml"
    }
   },
   "outputs": [],
   "source": [
    "<Question ID=\"40273.100004300\" title=\"Comment(s)\">\n",
    "    <ResponseField>\n",
    "        <Response>\n",
    "            <string maxLength=\"4000\" minLength=\"0\"/>\n",
    "        </Response>\n",
    "    </ResponseField>\n",
    "</Question>"
   ]
  },
  {
   "cell_type": "code",
   "execution_count": null,
   "metadata": {
    "vscode": {
     "languageId": "xml"
    }
   },
   "outputs": [],
   "source": [
    "<Question ID=\"QM1\" title=\"This is a QM Question title\" >\n",
    "    <ListField maxSelections=\"0\">\n",
    "        <List>\n",
    "            <ListItem ID=\"LI1\" title=\"ListItem.title.1\" />\n",
    "            <ListItem ID=\"LI2\" title=\"ListItem.title.2\" />\n",
    "            <ListItem ID=\"LI3\" title=\"ListItem.title.3\" />\n",
    "        </List>\n",
    "    </ListField>\n",
    "</Question>"
   ]
  },
  {
   "attachments": {},
   "cell_type": "markdown",
   "metadata": {},
   "source": [
    "## minCard\n",
    "\n",
    "@minCard is the minimum number of repetitions allowed for a section or question. The default value is 1, indicating that the user must answer any question(s) that has this attribute set. If @minCard is set to 0, then the item and all descendent questions are optional to answer.\n"
   ]
  },
  {
   "cell_type": "code",
   "execution_count": null,
   "metadata": {
    "vscode": {
     "languageId": "xml"
    }
   },
   "outputs": [],
   "source": [
    "<Question name=\"Q_2118\" order=\"21\" ID=\"2118.100004300\" minCard=\"0\" readOnly=\"true\">\n",
    "      <Property name=\"p_altTxt_2118_1\" order=\"22\" propName=\"altText\" val=\"Tumor Site\" />\n",
    "      <ListField name=\"lf_2118_2\" order=\"23\">\n",
    "       <List name=\"lst_2118_3\" order=\"24\">\n",
    "        <ListItem name=\"LI_2119\" order=\"25\" ID=\"2119.100004300\" title=\"Adrenal gland\" selected=\"true\">\n",
    "         <Property name=\"p_rptTxt_2119_1\" order=\"26\" propName=\"reportText\" val=\"{no text}\" />\n",
    "        </ListItem>\n",
    "       </List>\n",
    "      </ListField>\n",
    "     </Question>"
   ]
  },
  {
   "attachments": {},
   "cell_type": "markdown",
   "metadata": {},
   "source": [
    "## Read Only Question\n",
    "\n",
    "The question above is a special kind of read only question that is displayed to the user, but they cannot fill it in. It is informational in nature only. "
   ]
  },
  {
   "cell_type": "code",
   "execution_count": null,
   "metadata": {
    "vscode": {
     "languageId": "xml"
    }
   },
   "outputs": [],
   "source": [
    " <ListItem name=\"LI_45594\" order=\"192\" ID=\"45594.100004300\" title=\"Other adjacent organs and structures (specify)\">\n",
    "         <Property name=\"p_rptTxt_45594_1\" order=\"193\" propName=\"reportText\" val=\"{no text}\" />\n",
    "         <ListItemResponseField name=\"lirf_45594_2\" order=\"194\" responseRequired=\"true\">\n",
    "          <Response name=\"rsp_45594_3\" order=\"195\">\n",
    "           <string name=\"str_45594_4\" order=\"196\" />\n",
    "          </Response>\n",
    "         </ListItemResponseField>\n",
    "        </ListItem>"
   ]
  },
  {
   "attachments": {},
   "cell_type": "markdown",
   "metadata": {},
   "source": [
    "## ListItem With Response\n",
    "\n",
    "There are many questions in SDC forms which might have a response section "
   ]
  }
 ],
 "metadata": {
  "kernelspec": {
   "display_name": "Python 3",
   "language": "python",
   "name": "python3"
  },
  "language_info": {
   "codemirror_mode": {
    "name": "ipython",
    "version": 3
   },
   "file_extension": ".py",
   "mimetype": "text/x-python",
   "name": "python",
   "nbconvert_exporter": "python",
   "pygments_lexer": "ipython3",
   "version": "3.9.13"
  },
  "orig_nbformat": 4,
  "vscode": {
   "interpreter": {
    "hash": "aee8b7b246df8f9039afb4144a1f6fd8d2ca17a180786b69acc140d282b71a49"
   }
  }
 },
 "nbformat": 4,
 "nbformat_minor": 2
}
