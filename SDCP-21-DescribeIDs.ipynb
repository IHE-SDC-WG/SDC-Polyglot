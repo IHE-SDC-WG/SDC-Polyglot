{
 "cells": [
  {
   "cell_type": "markdown",
   "metadata": {},
   "source": [
    " **FDF and XFC Identifiers (IDs)**\n",
    " Each FDF has its own ID attribute in the FormDesign element, which uniquely identifies each \"class\" of FDF \n",
    "document. The word \"class\" is meant to convey that the lineage and version are identical for each FDF that \n",
    "shares an FDF ID; In FDFs that share an ID, the XML structure and metadata are identical. \n",
    "\n",
    "In addition, every XFC inside an FDF contains ID content, which must be unique within its FDF. However, XFC ID\n",
    "content values do not need to be globally unique. Thus, the same XFC ID values may be used in other FDFs, \n",
    "including FDFs with the same lineage (but different versions) and FDFs from a different author or source. \n",
    "Within a given organization (defined by the baseURI), it is important to tightly control the release of IDs, so that \n",
    "the same ID never appears in a different FDF lineage. Controlling the release of XFC IDs to be unique across \n",
    "lineages has major advantages. This approach reuses an XFC ID to be only when that XFC is copied unchanged into\n",
    "a new FDF version derived from the same FDF lineage. This approach allows ID-based queries across multiple \n",
    "FDF versions that share a common lineage.\n",
    "\n",
    "**Do IDs change when a new version of an FDF is released?** Most XFC IDs are not changed when an FDF from a \n",
    "given lineage is released with a new version. However, a new FDF version will force a change for the ID on \n",
    "the FormDesign element. Within a given lineage of FDFs, identical XFC ID values signal that the semantics and \n",
    "basic structure of the object remains unchanged across different versions. The criteria for changing IDs on \n",
    "versioned XFC items are discussed later in this document.\n",
    "\n",
    "It is possible to create a system for globally unique ID values that would enable every FDF and every XFC in a form \n",
    "to be uniquely identified, e.g., by using GUIDs. However, the use and maintenance of long GUID ID content can \n",
    "sometimes cause difficulties and errors. \n",
    "\n",
    "**Do IDs ever repeat?** Within a single baseURI organization, a given XFC ID is found only in one lineage of FDFs. \n",
    "Similarly, within a single baseURI organization, a given FDF ID is found only in a single version of a single \n",
    "lineage of an FDF class. All IDs in an FDF must be unique within the FDF. It is worth nothing that FDF IDs and \n",
    "XFC IDs generally use very different formats, so the chance of a ID collision between an FDF and its contained \n",
    "XFCs is nearly zero. Once an ID is released, it cannot be reused. If an ID is deprecated, it may not be reused. \n",
    "\n",
    "**Why aren’t IDs always in sequential order?** IDs are derived from a pre-existing list of sequential integers that \n",
    "represent unused IDs. The unused IDs are available to all FDFs that are being edited. Sometimes during the initial \n",
    "phases of FDF editing, blocks of temporary XFCs are created, only to be removed before release. The unused IDs \n",
    "from the deleted records may be reused, resulting in the reuse of lower-numbered IDs that appear out of \n",
    "sequence. These lower-numbered IDs are still unique, but no longer in a strictly-increasing sequence.\n",
    "\n",
    "In other cases, XFCs (or entire blocks of XFCs) may be moved, during the FDF modeling process, to different \n",
    "locations within the same FDF. (IDs are never moved to other FDFs.) Because lower-numbered IDs may be \n",
    "moved below higher numbered IDs in an FDF, they are no longer in a numerically-increasing sequential order.\n",
    "\n",
    "**If the IDs can change between versions, how can we combine data from multiple versions?** Before attempting \n",
    "cross-version queries in a single FDF lineage, it is important to ensure that all ListItems for the Question\n",
    "being queried are essentially unchanged across all the FDF versions. Blindly querying across different versions of a \n",
    "Question, when the different versions have different ListItem sets, can return incorrect results in some cases.\n",
    "\n",
    "When ListItems for a Question change, the Question (and its ID) is deprecated and replaced. If the data \n",
    "analyst is aware of the change implications, it should be possible to combine similar FDF-DE (Question-ListItem) \n",
    "blocks into a common query and result dataset. In these cases, interpretation of the query results \n",
    "requires that the changes over time (i.e., in different FDF versions) be considered.\n"
   ]
  }
 ],
 "metadata": {
  "language_info": {
   "name": "python"
  },
  "orig_nbformat": 4
 },
 "nbformat": 4,
 "nbformat_minor": 2
}
