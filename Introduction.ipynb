{
 "cells": [
  {
   "attachments": {},
   "cell_type": "markdown",
   "metadata": {},
   "source": [
    "# Introduction to SDC"
   ]
  },
  {
   "cell_type": "markdown",
   "metadata": {},
   "source": [
    "\n",
    "\n",
    "\n",
    "## 1.1\tPrerequisites (TBD)\n",
    "\n",
    "## 1.2\tThe Lives of Data (TBD)\n",
    "\n",
    "\n",
    "## 1.3\tWhat is Structured Data Capture (SDC)?\n",
    "\n",
    "\n",
    "** Structured Data Capture (SDC) is a new technology that creates interoperable, computer-readable definitions for standardized Question/Answer Sets (QAS) in Data Entry Forms (DEFs).  **\n",
    "\n",
    "SDC standardizes the creation and management of DEF QAS items throughout the data lifecycle. The SDC data lifecycle begins with the design of QAS items in DEFs and the inclusion of DEFs in DEF libraries.  SDC standardizes the representation of QAS items in a DEF on a computer screen and defines the behavior of DEFs during user-DEF interactions.  \n",
    "\n",
    "After data is captured in an SDC DEF, the SDC model standardizes the transmission and redisplay of captured DEF user responses, as well as re-editing of the original DEF-captured data, and re-transmission of the DEF and its data to other recipients.  SDC is also capable of creating specifications for reports based on the captured DEF data, and provides recommendations for the storage and querying of DEF-captured data.\n",
    "\n",
    "This document describes design of DEFs using the SDC model and touches upon several of the other data lifecycle activities.  As a general organizational pattern for this document, we will introduce many topics at a high level early, and then come back to them in progressively more detail.\n"
   ]
  }
 ],
 "metadata": {
  "kernelspec": {
   "display_name": "Python 3.10.9 ('base')",
   "language": "python",
   "name": "python3"
  },
  "language_info": {
   "name": "python",
   "version": "3.10.9"
  },
  "orig_nbformat": 4,
  "vscode": {
   "interpreter": {
    "hash": "84a6e56cad9f6803bee123ab2fbc6ed12d03e921732fdccb28384fd8c4b653a4"
   }
  }
 },
 "nbformat": 4,
 "nbformat_minor": 2
}
