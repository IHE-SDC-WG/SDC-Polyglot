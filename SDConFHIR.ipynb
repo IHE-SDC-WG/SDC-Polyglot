{
 "cells": [
  {
   "attachments": {},
   "cell_type": "markdown",
   "metadata": {},
   "source": [
    "# IHE SDC on FHIR\n",
    "This section describes how to map IHE SDC to FHIR resources. "
   ]
  }
 ],
 "metadata": {
  "language_info": {
   "name": "python"
  },
  "orig_nbformat": 4
 },
 "nbformat": 4,
 "nbformat_minor": 2
}
