{
 "cells": [
  {
   "cell_type": "code",
   "execution_count": null,
   "metadata": {},
   "outputs": [],
   "source": [
    "# 26\tGlossary"
   ]
  },
  {
   "cell_type": "markdown",
   "metadata": {},
   "source": [
    "## 26.1\tTerms and Abbreviations"
   ]
  },
  {
   "cell_type": "markdown",
   "metadata": {},
   "source": [
    "**ChildItems**: The ChildItems element under a S or Q element provides a wrapper to subsume child XFCs including Q, S, DisplayedItem, ButtonAction and InjectForm.  Note that a LI may not be a direct child of ChildItems, even though LI is an XFC.  The ChildItems wrapper element serves to separate child XFC elements from other parent-owned metadata elements that supplement the parent XFC.  "
   ]
  },
  {
   "cell_type": "markdown",
   "metadata": {},
   "source": [
    "**Common Data Element (CDE)**: When Data Elements (DEs) are found inside a DE repository/registry, a DE is called a CDE.  A CDE registry allows the sharing of DEs among many forms and allows DE variations and version history to be maintained in a central location.  "
   ]
  },
  {
   "cell_type": "markdown",
   "metadata": {},
   "source": [
    "**Composite globally-unique identifier (CGUI)**: When referring to a specific XFC in a specific FDF, a CGUI is creating by using the @baseURI of the closest ancestor, concatenated as a prefix with the @ID value of the XFC."
   ]
  },
  {
   "cell_type": "markdown",
   "metadata": {},
   "source": [
    "**Conditionally Required (CR)**: All required DEs (@mustImplement = true) must appear in DEF so that users may complete them.  However, the responses from some required DEs should be omitted from reports under specific circumstances.  For example, if no lymph nodes are present in a pathology specimen, then \"required\" lymph node pathology DEs should not be reported.  These required DEs can be considered as \"Conditionally Required\" (CR), so that a user (or computer) may recognize when the DE should be omitted from the report.  There are 3 basic types of CR: Omit When Selected (OWS), Omit When Unanswered (OWU) and Selection Disables Children (SDAC).\n",
    "\n",
    "Control: XFCs can be rendered in a DEF in different ways depending on a Form Filler’s programming technique and visual themes/preferences, but all SDC forms use the same SDC information model and form components.  When XFCs are rendered in a DEF, the DEF screen objects are called controls or widgets to distinguish these rendered screen items from the XFCs described by the FDF XML.\n"
   ]
  },
  {
   "cell_type": "markdown",
   "metadata": {},
   "source": [
    "[//]: # (Comment: Change made for consistency though the word 'context' is only slightly constrained from its normal meaning )\n",
    "**Context**: Context refers to the hierarchical relationship between form components defined by the FDF XML.  Context (especially ancestors) can greatly affect the semantics of the DE units in an FDF and DEF.  Incorrectly separating the DEF user responses into separate data slots (e.g., \"shredding\" captured QAS responses into database tables and fields not designed for SDC) can result in loss of context and misinterpretation of.  Care must be taken to assure the preservation of the original context, including when storing DEF responses and assigning terminologies/codes.  Preservation of context is a major advantage of SDC over other technologies.  Because of the complexities of finding suitable terminology and CDE codes that precisely describe the contextual semantics of a captured DEF user response, application of terminology codes is not a substitute for SDC context preservation."
   ]
  },
  {
   "cell_type": "markdown",
   "metadata": {},
   "source": [
    "**Control**: XFCs can be rendered in a DEF in different ways depending on a Form Filler’s programming technique and visual themes/preferences, but all SDC forms use the same SDC information model and form components.  When XFCs are rendered in a DEF, the DEF screen objects are called controls or widgets to distinguish these rendered screen items from the XFCs described by the FDF XML."
   ]
  },
  {
   "cell_type": "markdown",
   "metadata": {},
   "source": [
    "**Data Element (DE)**:  A DE is essentially a Q, along with a definition of acceptable answer choices (either a direct \"fill-in\" response or a list of possible answer choices).DEs are a fundamental concept in the SDC world.  DEs can live in multiple environments, including, e.g., inside a text document, XML, public DE registry, FDF, DEF, or database.    In some cases, terminology codes and many other types of metadata may be added to DEs.  When multiple DE units are nested together into an interdependent unit, the structure is known as a complex DE.  Many FDFs contain complex DE blocks.  Although there is no universal XML standard for representing and transmitting DE structure and content, FDF XML can be used for this purpose."
   ]
  },
  {
   "cell_type": "markdown",
   "metadata": {},
   "source": [
    "[//]: # (Comment: Change made for consistency and 'Items' capitalized )\n",
    "**Data Items**: Data items live inside DEFs.  Data items are simply Qs that need an answer.   The Data Element (DE) and the Question/Answer Set (QAS) are closely related concepts."
   ]
  },
  {
   "cell_type": "markdown",
   "metadata": {},
   "source": [
    "[//]: # (Comment: Change made for consistency - don't understand why 'Data items' bolded insconsistently here )\n",
    "**Data-Entry Forms (DEFs)**: DEFs can be found in web pages, desktop software or any data-entry screen in any software application.  **Data items** live inside DEFs.  Data items are simply Qs that need an answer.  Structured Data Capture (SDC) is a new technology that creates interoperable, computer-readable definitions for standardized **data items** in DEFs."
   ]
  },
  {
   "cell_type": "markdown",
   "metadata": {},
   "source": [
    "[//]: # (Comment: Change made for consistency - What is the loose Capital'S' doing at end here)\n",
    "**DemogFormDesign**: DemogFormDesign  is an element in an SDCPackage that is used to contain a generic demographic form that is reused with multiple different domain-specific forms that are placed in the FormDesign S."
   ]
  },
  {
   "cell_type": "markdown",
   "metadata": {},
   "source": [
    "**DisplayedItem (DI)**: The DI element is used to define visible text for display almost anywhere in a DEF.  Each DI has a unique @ID, but, unlike Qs and Ss, a DI cannot have a ChildItems element or XFC descendants.   Displayed text that must have XFC descendants must use the S element instead; this should not cause a problem because the formatting of any SDC element, such as DI or S, should be determined by the @styleClass attribute, not the element type."
   ]
  }
 ],
 "metadata": {
  "kernelspec": {
   "display_name": "Python 3.10.9 ('base')",
   "language": "python",
   "name": "python3"
  },
  "language_info": {
   "name": "python",
   "version": "3.10.9"
  },
  "orig_nbformat": 4,
  "vscode": {
   "interpreter": {
    "hash": "84a6e56cad9f6803bee123ab2fbc6ed12d03e921732fdccb28384fd8c4b653a4"
   }
  }
 },
 "nbformat": 4,
 "nbformat_minor": 2
}
