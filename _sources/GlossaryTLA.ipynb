{
 "cells": [
  {
   "cell_type": "code",
   "execution_count": null,
   "metadata": {},
   "outputs": [],
   "source": [
    "# 26\tGlossary"
   ]
  },
  {
   "cell_type": "markdown",
   "metadata": {},
   "source": [
    "## 26.1\tTerms and Abbreviations"
   ]
  },
  {
   "cell_type": "markdown",
   "metadata": {},
   "source": [
    "[//]: # (Comment: Change made for consistency regarding highlighting as a large number of terms in this entry have yet to be defined )\n",
    "**ChildItems**: The ChildItems element under a **S** or **Q** element provides a wrapper to subsume child XFCs including Q, S, **DisplayedItem**, **ButtonAction** and **InjectForm**.  Note that a **LI** may not be a direct child of ChildItems, even though LI is an **XFC**.  The ChildItems wrapper element serves to separate child XFC elements from other **parent-owned** **metadata** elements that supplement the parent XFC.  "
   ]
  },
  {
   "cell_type": "markdown",
   "metadata": {},
   "source": [
    "**Common Data Element (CDE)**: When Data Elements (DEs) are found inside a DE repository/registry, a DE is called a CDE.  A CDE registry allows the sharing of DEs among many forms and allows DE variations and version history to be maintained in a central location.  "
   ]
  },
  {
   "cell_type": "markdown",
   "metadata": {},
   "source": [
    "**Composite globally-unique identifier (CGUI)**: When referring to a specific XFC in a specific FDF, a CGUI is creating by using the @baseURI of the closest ancestor, concatenated as a prefix with the @ID value of the XFC."
   ]
  },
  {
   "cell_type": "markdown",
   "metadata": {},
   "source": [
    "**Conditionally Required (CR)**: All required DEs (@mustImplement = true) must appear in DEF so that users may complete them.  However, the responses from some required DEs should be omitted from reports under specific circumstances.  For example, if no lymph nodes are present in a pathology specimen, then \"required\" lymph node pathology DEs should not be reported.  These required DEs can be considered as \"Conditionally Required\" (CR), so that a user (or computer) may recognize when the DE should be omitted from the report.  There are 3 basic types of CR: Omit When Selected (OWS), Omit When Unanswered (OWU) and Selection Disables Children (SDAC).\n",
    "\n",
    "Control: XFCs can be rendered in a DEF in different ways depending on a Form Filler’s programming technique and visual themes/preferences, but all SDC forms use the same SDC information model and form components.  When XFCs are rendered in a DEF, the DEF screen objects are called controls or widgets to distinguish these rendered screen items from the XFCs described by the FDF XML.\n"
   ]
  },
  {
   "cell_type": "markdown",
   "metadata": {},
   "source": [
    "[//]: # (Comment: Change made for consistency though the word 'context' is only slightly constrained from its normal meaning )\n",
    "**Context**: Context refers to the hierarchical relationship between form components defined by the FDF XML.  Context (especially ancestors) can greatly affect the semantics of the DE units in an FDF and DEF.  Incorrectly separating the DEF user responses into separate data slots (e.g., \"shredding\" captured QAS responses into database tables and fields not designed for SDC) can result in loss of context and misinterpretation of.  Care must be taken to assure the preservation of the original context, including when storing DEF responses and assigning terminologies/codes.  Preservation of context is a major advantage of SDC over other technologies.  Because of the complexities of finding suitable terminology and CDE codes that precisely describe the contextual semantics of a captured DEF user response, application of terminology codes is not a substitute for SDC context preservation."
   ]
  },
  {
   "cell_type": "markdown",
   "metadata": {},
   "source": [
    "**Control**: XFCs can be rendered in a DEF in different ways depending on a Form Filler’s programming technique and visual themes/preferences, but all SDC forms use the same SDC information model and form components.  When XFCs are rendered in a DEF, the DEF screen objects are called controls or widgets to distinguish these rendered screen items from the XFCs described by the FDF XML."
   ]
  },
  {
   "cell_type": "markdown",
   "metadata": {},
   "source": [
    "**Data Element (DE)**:  A DE is essentially a Q, along with a definition of acceptable answer choices (either a direct \"fill-in\" response or a list of possible answer choices).DEs are a fundamental concept in the SDC world.  DEs can live in multiple environments, including, e.g., inside a text document, XML, public DE registry, FDF, DEF, or database.    In some cases, terminology codes and many other types of metadata may be added to DEs.  When multiple DE units are nested together into an interdependent unit, the structure is known as a complex DE.  Many FDFs contain complex DE blocks.  Although there is no universal XML standard for representing and transmitting DE structure and content, FDF XML can be used for this purpose."
   ]
  },
  {
   "cell_type": "markdown",
   "metadata": {},
   "source": [
    "[//]: # (Comment: Change made for consistency and 'Items' capitalized )\n",
    "**Data Items**: Data items live inside DEFs.  Data items are simply Qs that need an answer.   The Data Element (DE) and the Question/Answer Set (QAS) are closely related concepts."
   ]
  },
  {
   "cell_type": "markdown",
   "metadata": {},
   "source": [
    "[//]: # (Comment: Change made for consistency - don't understand why 'Data items' bolded insconsistently here )\n",
    "**Data-Entry Forms (DEFs)**: DEFs can be found in web pages, desktop software or any data-entry screen in any software application.  **Data items** live inside DEFs.  Data items are simply Qs that need an answer.  Structured Data Capture (SDC) is a new technology that creates interoperable, computer-readable definitions for standardized **data items** in DEFs."
   ]
  },
  {
   "cell_type": "markdown",
   "metadata": {},
   "source": [
    "[//]: # (Comment: Change made for consistency - What is the loose Capital'S' doing at end here)\n",
    "**DemogFormDesign**: DemogFormDesign  is an element in an SDCPackage that is used to contain a generic demographic form that is reused with multiple different domain-specific forms that are placed in the FormDesign S."
   ]
  },
  {
   "cell_type": "markdown",
   "metadata": {},
   "source": [
    "**DisplayedItem (DI)**: The DI element is used to define visible text for display almost anywhere in a DEF.  Each DI has a unique @ID, but, unlike Qs and Ss, a DI cannot have a ChildItems element or XFC descendants.   Displayed text that must have XFC descendants must use the S element instead; this should not cause a problem because the formatting of any SDC element, such as DI or S, should be determined by the @styleClass attribute, not the element type."
   ]
  },
  {
   "cell_type": "markdown",
   "metadata": {},
   "source": [
    "[//]: # (Comment: Change made for consistency )\n",
    "**FDF-R**: FDF-R is an **FDF** containing captured user responses."
   ]
  },
  {
   "cell_type": "markdown",
   "metadata": {},
   "source": [
    "[//]: # (Comment: Change made for consistency; also \"actor\" needs to be added to Glossary )\n",
    "**Form Creators**: Form Creators are the most important component of the SDC ecosystem, despite not being IHE **actors** (transaction nodes).  Form creators are individuals and organizations that define the content, structure and behavior of FDFs. Form Creators may develop FDFs by working directly with FDF XML, or by using a tool to create/edit FDF files.  "
   ]
  },
  {
   "cell_type": "markdown",
   "metadata": {},
   "source": [
    "**Form Design File (FDF)**: SDC defines the data items of a DEF inside a Form Design File (FDF).  An FDF is primarily an XML description of the data items in a DEF.  It is not dependent on the programming language used to create a DEF.  "
   ]
  },
  {
   "cell_type": "markdown",
   "metadata": {},
   "source": [
    "[//]: # (Comment: Change made for consistency;also \"Form Fillers\" needs to be added to Glossary )\n",
    "**Form Managers (FMs)**: Form Managers (FMs) store FDFs in a repository and transmit them immediately in response to requests from Form Fillers (FFs).  Form Creators send (e.g., via email or direct upload) FDFs to one or more Form Managers"
   ]
  },
  {
   "cell_type": "markdown",
   "metadata": {},
   "source": [
    "[//]: # (Comment: Change made for consistency; removed bolding for Form Filler in text )\n",
    "**Form Receivers (FRs)**: Form Receivers (FRs) receive the SDC response data (in an FDF-R file) from the Form Filler and process the data according to the FR’s needs.  FRs are responsible for storing the captured SDC data as native SDC XML and/or \"shredded\" into some other storage format."
   ]
  },
  {
   "cell_type": "markdown",
   "metadata": {},
   "source": [
    "[//]: # (Comment: Change made for consistency )\n",
    "**FormDesign**: FormDesign is the root element of an FDF.  FormDesign contains an @ID attribute and several other attributes specific to the FDF root.  In addition, FormDesign may contain any number of standard or custom Property elements to provide essential metadata about the form."
   ]
  },
  {
   "cell_type": "markdown",
   "metadata": {},
   "source": [
    "[//]: # (Comment: Change made for consistency )\n",
    "**Implied Activation**: Implied Activation means that child items are automatically activated when a user response is captured in a parent QAS.  Thus, when a LI is selected, all child items of the LI become activated.  QS, QM and QR items also may have direct child items in the FDF and DEF.  For QM and QS, the child items are activated when any LI is selected.  For QR, the child items are activated when a user response is captured in control."
   ]
  },
  {
   "cell_type": "markdown",
   "metadata": {},
   "source": [
    "[//]: # (Comment: Change made for consistency; capitalized \"invisible\" )\n",
    "**Invisible Questions**: Invisible Questions have no @title value in the XML or visible text in the DEF, but their LIs do have @title values and thus text in the DEF.  "
   ]
  },
  {
   "cell_type": "markdown",
   "metadata": {},
   "source": [
    "[//]: # (Comment: Is \"user\" a Form Filler?  This is not obvious.  The other choice that works is Form Creator. Should define \"selected\" to be consistent with the way it is used in \"implied Activation\" )\n",
    "**ListItem (LI)**:  LIs are answer choices that are subsumed by a QS or QM.  An LI comes in two basic types: the **simple LI**, which is selectable by the user, and the **ListItem-Response (LIR)**, which is selectable and can also capture a user-entered response.  "
   ]
  },
  {
   "cell_type": "markdown",
   "metadata": {},
   "source": [
    "[//]: # (Comment: Is \"user\" a Form Filler?  This is not obvious.  The other choice that works is Form Creator )\n",
    "**ListItem-Response (LIR)**: An LIR is a LI that contains a Response element for a user to fill in a response.  If the LIR is selected by a user, then the user can also add a strongly-typed response to the fill-in portion of the LIR."
   ]
  },
  {
   "cell_type": "markdown",
   "metadata": {},
   "source": [
    "[//]: # (Comment: Change made for consistency )\n",
    "**ListItemResponseField**: ListItemResponseField is the part of an LIR that receives and contains the user’s response data.  It contains a strongly-typed data entry element for restricting and validating the type of data that may be entered. "
   ]
  },
  {
   "cell_type": "markdown",
   "metadata": {},
   "source": [
    "[//]: # (Comment: Change made for consistency )\n",
    "**Metadata**: Metadata refers to the values of all FDF attributes, which affect the rendering, behavior, storage, exchange, reporting and interpretation of all FDF form components.  In SDC, everything inside an FDF is metadata except for the data entered by the user and captured by the DEF."
   ]
  },
  {
   "cell_type": "markdown",
   "metadata": {},
   "source": [
    "[//]: # (Comment: Is \"user\" a Form Filler?  This is not obvious.  The other choice that works is Form Creator. Should define \"selected\" to be consistent with the way it is used in \"implied Activation\" )\n",
    "**Multi-select Question (QM)**: A Q that allows the user to select multiple LIs and/or LIRs in a QAS list."
   ]
  },
  {
   "cell_type": "markdown",
   "metadata": {},
   "source": [
    "[//]: # (Comment: Change made for consistency; It is also inconsistent to highlight DisplayedItem as it is already defined above )\n",
    "**Notes**: Notes are strings of text that may accompany DE controls to provide explanatory information with background documentation.  Notes usually derive from the SDC DisplayedItem element. "
   ]
  },
  {
   "cell_type": "markdown",
   "metadata": {},
   "source": [
    "Response/ Response Field - needs individual entry or reference in LIR\n",
    "HTMLPackage - needs individual entry\n",
    "Form Filler - needs an individual entry\n",
    "Form User - needs an individual entry\n",
    "Form - though used colloquially, should likely have an entry\n",
    "Body - needs individual entry\n",
    "Footer - needs individual entry\n",
    "ButtonAction - needs individual entry\n",
    "InjectForm - needs individual entry\n",
    "Header?\n",
    "\n",
    "Verbs need definition:\n",
    "Capture\n",
    "Select\n",
    "Parent-owned and/or short definition of hierarchy of objects in this document \n",
    "\n",
    "list of actors\n",
    "list of human inter-actors\n",
    "\n",
    "IET table?\n",
    "\n",
    "Prpare task for RLM in July time frame (post grants)\n"
   ]
  },
  {
   "cell_type": "markdown",
   "metadata": {},
   "source": [
    "**Property**: Properties may be used to define standard or custom FDF metadata. Properties can be used to display static information on forms, and to display context-sensitive information (e.g., tooltips, help pop-ups, or special report text).  They also may be used to record visible or hidden metadata for any purpose.  Properties may be nested to any depth and use any datatype for the Property’s value."
   ]
  },
  {
   "cell_type": "markdown",
   "metadata": {},
   "source": [
    "[//]: # (Comment: \"Question\" needs a definition before going in to its uses;  ListItem is already defined above so does not need highlight;  Might be better to say with regard to QS and QM that their LIs may contain one or more LIRs )\n",
    "**Question (Q)**: Qs that can capture a response (fill-in) value directly are called **Question-Response Items (QR)**.  They are sometimes also called Q Response (QR) items.  QR response metadata and captured response values are handled by the **ResponseField\\Response** structure.  Other Qs take a List of answer choices, called ListItems (LI).  In the most common cases, Qs with LI choices are either **QS** or QM.  **QS** and QM items never have a Response element, however, selected LIs may accept a user response in the ListItemResponseField."
   ]
  },
  {
   "cell_type": "markdown",
   "metadata": {},
   "source": [
    "[//]: # (Comment:  It is inconsistent to highlight \"captured\", \"response\", \"selecting\" and \"LI\" as some of these have been previously defined above or have never been defined - covered in another note is a list of terms that should be defined.  If all defined terms should be highlighted, that would be more consistent )\n",
    "**Question/Answer Set (QAS)**: A QAS is a Q in a DEF that includes a definition of its permitted answer(s).  The permitted answers may be captured as a filled-in response by the user, or by selecting from a list of answer choices (LI elements).  A QAS can be thought of as a DE that lives in a DEF rather than in an FDF or CDE registry."
   ]
  },
  {
   "cell_type": "markdown",
   "metadata": {},
   "source": [
    "**Question-Response Items (QR)**: Qs that can capture a response (fill-in) value directly are called Question-Response Items (QR).  They are sometimes also called Q Response (QR) items.  A QR contains no child LIs.  Response metadata and captured response values are handled by the ResponseField\\Response XML structure."
   ]
  },
  {
   "cell_type": "markdown",
   "metadata": {},
   "source": [
    "[//]: # (Comment: Change made for consistency; S should be highlighted as it has not yet been defined; )\n",
    "**SDCPackage**: SDCPackage is an XML container sent from a Form Manager to a Form Filler.  It may contain an HTMLPackage enclosing an HTML form, or it may contain an XMLPackage that encloses a FormDesign S and optionally, a DemogFormDesign S.  The HTML package contains a ready-to-use HTML SDC form.  The XML Package must be converted into an implemented DEF and then rendered to the computer screen.  For example, the XMLPackage is converted to an HTML DEF inside the Form Filler."
   ]
  },
  {
   "cell_type": "markdown",
   "metadata": {},
   "source": [
    "[//]: # (Comment: Should individual letter be highlighted throughout?;Section is \"overloaded\" in this entry; Is there a \"Header\" Section (in addition to Body and Footer?) )\n",
    "**Section (S)**: The most basic structure of an FDF is the S.  Three specially-named Ss are the Section, Body and Footer, which appear as direct children of the top-level FormDesign element.  Ss can contain a variety of metadata features, but their main function is to group XFCs into logical groupings."
   ]
  },
  {
   "cell_type": "markdown",
   "metadata": {},
   "source": [
    "**Single-select Question (QS)**: A Q that allows the user to select only one LI from a List of LIs."
   ]
  },
  {
   "cell_type": "markdown",
   "metadata": {},
   "source": [
    "[//]: # (Comment: Change made for consistency; Removed highlightling for 'Data Items' as this is defined above )\n",
    "**Structured Data Capture (SDC)**: is a new technology that creates interoperable, computer-readable definitions for standardized data items in DEFs. "
   ]
  },
  {
   "cell_type": "markdown",
   "metadata": {},
   "source": [
    "[//]: # (Comment: Added highlightling for '@ID' as this is not yet defined )\n",
    "**XML Form Component (XFC)**: The parts of FDF XML used to represent primary form objects are called XML Form Components.  XFCs may be one of several types: Q, LI, S, DI, InjectForm, and ButtonAction. All XFCs have a required **@ID** attribute.  Q, S and LI may subsume a ChildItems element, which contain other XFCs."
   ]
  }
 ],
 "metadata": {
  "kernelspec": {
   "display_name": "Python 3.10.9 ('base')",
   "language": "python",
   "name": "python3"
  },
  "language_info": {
   "name": "python",
   "version": "3.10.9"
  },
  "orig_nbformat": 4,
  "vscode": {
   "interpreter": {
    "hash": "84a6e56cad9f6803bee123ab2fbc6ed12d03e921732fdccb28384fd8c4b653a4"
   }
  }
 },
 "nbformat": 4,
 "nbformat_minor": 2
}
