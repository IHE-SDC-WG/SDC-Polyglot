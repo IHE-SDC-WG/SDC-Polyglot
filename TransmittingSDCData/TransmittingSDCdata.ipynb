{
 "cells": [
  {
   "cell_type": "markdown",
   "metadata": {},
   "source": [
    "# Transmitting SDC Data \n",
    "\n",
    "This chapter will outline the various ways one can send SDC data. These include: \n",
    "* IHE Retrieve Form for Data Capture (RFD) Messaging\n",
    "* SDC on FHIR\n",
    "* SDC REST API \n",
    "* NAACCR Vol V\n",
    "\n",
    "## SDC RFD\n",
    "\n",
    "The [IHE SDC specification](https://ihe.net/uploadedFiles/Documents/QRPH/IHE_QRPH_Suppl_SDC.pdf) was originally created by the IHE Quality Research and Public Health committee and leveraged a specification known as Retrieve Form for Data Capture as its transmission specification. While the content module of that older specification is dated compared to this Polyglot notebook the RFD specification may still be used. It uses a SOAP methodology for transmitting data. \n",
    "\n",
    "The [IHE Wiki](https://wiki.ihe.net/index.php/Structured_Data_Capture) has an excellent summary and useful information on this IHE profile.\n",
    "\n",
    "The [implementation page](https://wiki.ihe.net/index.php/Structured_Data_Capture_Implementation) has some legacy links which may also be valuable for review including some webinars, ONC project updates, and publications in journals.\n",
    "\n",
    "## SDC on FHIR\n",
    "\n",
    "The [IHE SDC/eCP on FHIR HL7 Implementation Guide](http://hl7.org/fhir/uv/ihe-sdc-ecc) covers how to use IHE SDC with FHIR. The bulk of this IG describes how to transform SDC XML forms to FHIR. It offers a detailed, element by element mapping from the SDC XML form model to various FHIR resources, mainly being the [Observation](https://www.hl7.org/fhir/observation.html) and [DiagnosticReport](https://www.hl7.org/fhir/diagnosticreport.html).\n",
    "\n",
    "### FHIR SDC \n",
    "\n",
    "The [FHIR Structured Data Capture Specification](http://hl7.org/fhir/uv/sdc/) is separate and describes how to create forms in FHIR using the FHIR Questionnaire Resource. Mapping SDC XML to the FHIR Questionnaire proved to be quite difficult and the working group settled on the FHIR Observation model so that data collected in both formats could be used. \n",
    "\n",
    "### Use of DocumentReference\n",
    "\n",
    "SDC Forms may also be wrapped in the FHIR [DocumentReference](https://www.hl7.org/fhir/documentreference.html) and transmitted through a FHIR API. The advantage of using the DocumentReference is that no data transformation is required as the SDC XML itself can be base64 encoded and wrapped within the form. There are examples of how the messages can be wrapped here: [DocumentReference Examples](https://www.hl7.org/fhir/documentreference-examples.html).\n",
    "\n",
    "When using the DocumentReference it is essential to put several identifiers in the DocumentReference.identifier element to ensure that the SDC document can be found. It is considered best practice to include\n",
    "\n",
    "* formInstanceURI\n",
    "* formInstanceVersionURI\n",
    "\n",
    "to ensure the form can be found via GUID. The DocumentReference should also contain relevant information that could help a user locate a specific form it might contain. In addition to the DocumentReference.identifier, it is recommended any implementers using the DocumentReference to transmit SDC forms populate the following data elements:\n",
    "\n",
    "* basedOn\n",
    "* type\n",
    "* category\n",
    "* subject\n",
    "* context\n",
    "* bodySite\n",
    "* author\n",
    "* custodian \n",
    "\n",
    "Using the DocumentReference can avoid some of the data loss that occurs when transforming to FHIR. \n",
    "\n",
    "## SDC REST API \n",
    "\n",
    "The SDC Working Group has been developing an API specification using the [OpenAPI Specification](https://www.openapis.org/). This work is in progress and has not been widely tested or adopted. An SDC specific API would allow for more granular querying of forms, especially for applications which leveraged SDC as a data model. "
   ]
  }
 ],
 "metadata": {
  "language_info": {
   "name": "python"
  }
 },
 "nbformat": 4,
 "nbformat_minor": 2
}
